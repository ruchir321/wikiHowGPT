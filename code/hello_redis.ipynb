{
 "cells": [
  {
   "cell_type": "markdown",
   "metadata": {},
   "source": [
    "# redis-py"
   ]
  },
  {
   "cell_type": "code",
   "execution_count": 1,
   "metadata": {},
   "outputs": [],
   "source": [
    "import redis"
   ]
  },
  {
   "cell_type": "code",
   "execution_count": 2,
   "metadata": {},
   "outputs": [],
   "source": [
    "client = redis.Redis(decode_responses=True)"
   ]
  },
  {
   "cell_type": "markdown",
   "metadata": {},
   "source": [
    "## store and retrieve"
   ]
  },
  {
   "cell_type": "markdown",
   "metadata": {},
   "source": [
    "### a k:v string pair"
   ]
  },
  {
   "cell_type": "code",
   "execution_count": 3,
   "metadata": {},
   "outputs": [
    {
     "data": {
      "text/plain": [
       "True"
      ]
     },
     "execution_count": 3,
     "metadata": {},
     "output_type": "execute_result"
    }
   ],
   "source": [
    "client.set(name=\"foo\", value=\"bar\")"
   ]
  },
  {
   "cell_type": "code",
   "execution_count": 4,
   "metadata": {},
   "outputs": [
    {
     "data": {
      "text/plain": [
       "'bar'"
      ]
     },
     "execution_count": 4,
     "metadata": {},
     "output_type": "execute_result"
    }
   ],
   "source": [
    "client.get(name=\"foo\")"
   ]
  },
  {
   "cell_type": "markdown",
   "metadata": {},
   "source": [
    "### a dict"
   ]
  },
  {
   "cell_type": "code",
   "execution_count": 5,
   "metadata": {},
   "outputs": [
    {
     "data": {
      "text/plain": [
       "0"
      ]
     },
     "execution_count": 5,
     "metadata": {},
     "output_type": "execute_result"
    }
   ],
   "source": [
    "client.hset(name=\"username:123\", # hash name\n",
    "       mapping={\n",
    "            \"name\": \"John\",\n",
    "            \"surname\": 'Smith',\n",
    "            \"company\": 'Redis',\n",
    "            \"age\": 29\n",
    "       }\n",
    "       )"
   ]
  },
  {
   "cell_type": "code",
   "execution_count": 6,
   "metadata": {},
   "outputs": [
    {
     "data": {
      "text/plain": [
       "{'name': 'John', 'surname': 'Smith', 'company': 'Redis', 'age': '29'}"
      ]
     },
     "execution_count": 6,
     "metadata": {},
     "output_type": "execute_result"
    }
   ],
   "source": [
    "client.hgetall(name=\"username:123\")"
   ]
  },
  {
   "cell_type": "markdown",
   "metadata": {},
   "source": [
    "# Redis as a vector db\n",
    "\n",
    "[ref](https://redis.io/docs/latest/develop/get-started/vector-database/#install-the-required-python-packages)"
   ]
  },
  {
   "cell_type": "code",
   "execution_count": 7,
   "metadata": {},
   "outputs": [],
   "source": [
    "import json"
   ]
  },
  {
   "cell_type": "code",
   "execution_count": 8,
   "metadata": {},
   "outputs": [],
   "source": [
    "with open(\"../data/wikihowAll.json\", \"r\", encoding=\"utf-8\") as f:\n",
    "    data = json.load(f)"
   ]
  },
  {
   "cell_type": "code",
   "execution_count": 9,
   "metadata": {},
   "outputs": [],
   "source": [
    "from pprint import pprint"
   ]
  },
  {
   "cell_type": "code",
   "execution_count": 10,
   "metadata": {},
   "outputs": [
    {
     "name": "stdout",
     "output_type": "stream",
     "text": [
      "('{\\n'\n",
      " '    \"headline\": \"\\\\nCreate a sketch in the NeoPopRealist manner of the '\n",
      " 'future mural on a small piece of paper 8\\\\\"x10\\\\\" using the black ink '\n",
      " 'pen.,\\\\nPrepare to create your NeoPopRealist mural.,\\\\nPrepare your '\n",
      " 'paint.,\\\\nBegin your project with a design.,\\\\nProduce a scaled down version '\n",
      " 'of your finished mural.,\\\\nPrepare the wall to be painted.,\\\\nAfter you have '\n",
      " 'primed the surface, measure the wall.,\\\\nPaint in the base coat of the '\n",
      " 'background.,\\\\nAllow the background and base coats to dry.,\\\\nDraw the '\n",
      " 'lines, then fill the appeared section with different repetitive patterns '\n",
      " '(examine the images above).,\\\\nPaint patterns with brushes of suitable size '\n",
      " 'for the particular portion of work you are painting.,\\\\nClean up the lines '\n",
      " 'and shapes as needed.,\\\\nSeal the mural if needed.,\\\\nBe inspired and it '\n",
      " 'will help you succeed!\",\\n'\n",
      " '    \"title\": \"How to Create a Neopoprealist Art Work\",\\n'\n",
      " '    \"text\": \" See the image for how this drawing develops step-by-step. '\n",
      " 'However, there is an important detail: the following drawings are to examine '\n",
      " 'it, and then, to create something unique.\\\\n\\\\n\\\\nUse the lines to create '\n",
      " 'the image shape and sections.\\\\nFill appeared sections with different '\n",
      " 'patterns/ ornaments.\\\\nAdd text if needed, for example \\\\\"NeoPopRealism is '\n",
      " '25!\\\\\"\\\\nAdd a colored strip on the top, any color you wish.;\\\\n, Painting a '\n",
      " 'mural always requires some preparation. You\\\\u2018ll need equipment and '\n",
      " 'effort, but planning and attention to detail will help you succeed. Painting '\n",
      " 'a mural requires a suitable location, with the right surface that can be '\n",
      " 'painted.\\\\n\\\\nThis surface should be smooth and flat. However, even '\n",
      " 'rough-textured surfaces can be used for your NeoPopRealist mural '\n",
      " 'project.\\\\n\\\\n, For exterior projects that last for years, using a newer '\n",
      " '100% acrylic exterior paint would be your best choice. For interior walls, '\n",
      " 'use latex paints. Latex offer easier cleanup and lower costs. By measuring '\n",
      " 'the total wall area to be covered, the total amount of paint can be '\n",
      " 'calculated, but since this mural painting requires two colors - white and '\n",
      " 'black - figuring the actual area to be painted each color is necessary to '\n",
      " 'allow purchasing the right amount of each one.\\\\n\\\\nLarge walls backgrounds '\n",
      " 'may be rolled or sprayed with a white paint sprayer, where details may be '\n",
      " 'added with brushes.\\\\nPaints are sensitive to high temperatures, humidity, '\n",
      " 'direct sunlight, however, the interior projects do not have many '\n",
      " 'complications. In public places, keeping the mural protected may require '\n",
      " 'attention. For that reason, if you make your NeoPopRealist mural dedicated '\n",
      " 'to its 25-year anniversary in school or office, you can consider using '\n",
      " 'varnish for your mural.\\\\n\\\\n, See sample above. The design will give you a '\n",
      " 'sense of proportion. You will have unique requirements and elements., Use a '\n",
      " 'sketch and measure at scale the distances and locations of various points of '\n",
      " 'your subject. Measuring key features will help you calculate the amount of '\n",
      " 'paint when each feature is identified by its color., If the surface is low, '\n",
      " 'the whole mural can be painted standing on the ground or from a stepladder. '\n",
      " 'For higher work, you may have to rent a scaffold., Mark the horizontal and '\n",
      " 'vertical lines., Use white paint as background., Then begin marking, using '\n",
      " 'your scaled sketch, the location of key elements of objects, located in the '\n",
      " 'foreground. Everything depends on the complexity of your mural. If you are '\n",
      " 'confident in your artistic results, you may choose to draw all of the '\n",
      " 'details in freehand., Be careful, keep clean transition edges from one color '\n",
      " '(black) to another (white). However, mistakes can be touched up later. '\n",
      " 'Always allow fresh color to dry before proceeding to the drawing., An '\n",
      " 'example would be painting a large patterns use big brushes, limbs, use small '\n",
      " 'brushes for tiny and detailed patterns., If you have a drip or run, paint '\n",
      " 'over it with the color paint appropriate for that location. Sharpen lines '\n",
      " 'and patterns if they are blurred., If it is intended to last a long time or '\n",
      " 'if it is on a surface that require cleaning, overcoat your mural project '\n",
      " \"with a clear sealer., However, if you won't be able to involve more than 16 \"\n",
      " \"percent of your brain's grays matter, you'll end up with the primitive \"\n",
      " 'crafting of patterns or even worse, with doodling or so-called zen-doodling. '\n",
      " 'But to create the NeoPopRealist ART one needs the abilities, which can be '\n",
      " \"developed in talented people by studying using Nadia Russ' Neopoprealist \"\n",
      " \"instructional books. Other, the copycats' self-promotional superficial books \"\n",
      " 'will teach you only how to doodle because they have nothing in common with '\n",
      " 'visual arts and its mission.\\\\n\\\\n\"\\n'\n",
      " '}')\n"
     ]
    }
   ],
   "source": [
    "pprint(json.dumps(data[0][1], indent=4))"
   ]
  },
  {
   "cell_type": "code",
   "execution_count": 11,
   "metadata": {},
   "outputs": [],
   "source": [
    "pipeline = client.pipeline()"
   ]
  },
  {
   "cell_type": "code",
   "execution_count": 12,
   "metadata": {},
   "outputs": [],
   "source": [
    "for i, article in enumerate(data[0]):\n",
    "    redis_key = f\"article_{i:03}:{article[\"title\"]}\"\n",
    "    pipeline.json().set(name=redis_key, path=\"$\", obj=article)"
   ]
  },
  {
   "cell_type": "code",
   "execution_count": 13,
   "metadata": {},
   "outputs": [],
   "source": [
    "res = pipeline.execute()"
   ]
  },
  {
   "cell_type": "code",
   "execution_count": 16,
   "metadata": {},
   "outputs": [
    {
     "data": {
      "text/plain": [
       "996"
      ]
     },
     "execution_count": 16,
     "metadata": {},
     "output_type": "execute_result"
    }
   ],
   "source": [
    "len(res) # 996 articles were loaded"
   ]
  },
  {
   "cell_type": "code",
   "execution_count": 24,
   "metadata": {},
   "outputs": [
    {
     "data": {
      "text/plain": [
       "{'headline': '\\nCreate a sketch in the NeoPopRealist manner of the future mural on a small piece of paper 8\"x10\" using the black ink pen.,\\nPrepare to create your NeoPopRealist mural.,\\nPrepare your paint.,\\nBegin your project with a design.,\\nProduce a scaled down version of your finished mural.,\\nPrepare the wall to be painted.,\\nAfter you have primed the surface, measure the wall.,\\nPaint in the base coat of the background.,\\nAllow the background and base coats to dry.,\\nDraw the lines, then fill the appeared section with different repetitive patterns (examine the images above).,\\nPaint patterns with brushes of suitable size for the particular portion of work you are painting.,\\nClean up the lines and shapes as needed.,\\nSeal the mural if needed.,\\nBe inspired and it will help you succeed!',\n",
       " 'title': 'How to Create a Neopoprealist Art Work',\n",
       " 'text': ' See the image for how this drawing develops step-by-step. However, there is an important detail: the following drawings are to examine it, and then, to create something unique.\\n\\n\\nUse the lines to create the image shape and sections.\\nFill appeared sections with different patterns/ ornaments.\\nAdd text if needed, for example \"NeoPopRealism is 25!\"\\nAdd a colored strip on the top, any color you wish.;\\n, Painting a mural always requires some preparation. You‘ll need equipment and effort, but planning and attention to detail will help you succeed. Painting a mural requires a suitable location, with the right surface that can be painted.\\n\\nThis surface should be smooth and flat. However, even rough-textured surfaces can be used for your NeoPopRealist mural project.\\n\\n, For exterior projects that last for years, using a newer 100% acrylic exterior paint would be your best choice. For interior walls, use latex paints. Latex offer easier cleanup and lower costs. By measuring the total wall area to be covered, the total amount of paint can be calculated, but since this mural painting requires two colors - white and black - figuring the actual area to be painted each color is necessary to allow purchasing the right amount of each one.\\n\\nLarge walls backgrounds may be rolled or sprayed with a white paint sprayer, where details may be added with brushes.\\nPaints are sensitive to high temperatures, humidity, direct sunlight, however, the interior projects do not have many complications. In public places, keeping the mural protected may require attention. For that reason, if you make your NeoPopRealist mural dedicated to its 25-year anniversary in school or office, you can consider using varnish for your mural.\\n\\n, See sample above. The design will give you a sense of proportion. You will have unique requirements and elements., Use a sketch and measure at scale the distances and locations of various points of your subject. Measuring key features will help you calculate the amount of paint when each feature is identified by its color., If the surface is low, the whole mural can be painted standing on the ground or from a stepladder. For higher work, you may have to rent a scaffold., Mark the horizontal and vertical lines., Use white paint as background., Then begin marking, using your scaled sketch, the location of key elements of objects, located in the foreground. Everything depends on the complexity of your mural. If you are confident in your artistic results, you may choose to draw all of the details in freehand., Be careful, keep clean transition edges from one color (black) to another (white). However, mistakes can be touched up later. Always allow fresh color to dry before proceeding to the drawing., An example would be painting a large patterns use big brushes, limbs, use small brushes for tiny and detailed patterns., If you have a drip or run, paint over it with the color paint appropriate for that location. Sharpen lines and patterns if they are blurred., If it is intended to last a long time or if it is on a surface that require cleaning, overcoat your mural project with a clear sealer., However, if you won\\'t be able to involve more than 16 percent of your brain\\'s grays matter, you\\'ll end up with the primitive crafting of patterns or even worse, with doodling or so-called zen-doodling. But to create the NeoPopRealist ART one needs the abilities, which can be developed in talented people by studying using Nadia Russ\\' Neopoprealist instructional books. Other, the copycats\\' self-promotional superficial books will teach you only how to doodle because they have nothing in common with visual arts and its mission.\\n\\n'}"
      ]
     },
     "execution_count": 24,
     "metadata": {},
     "output_type": "execute_result"
    }
   ],
   "source": [
    "res = client.json().get(\"article_001:How to Create a Neopoprealist Art Work\")\n",
    "res"
   ]
  },
  {
   "cell_type": "markdown",
   "metadata": {},
   "source": [
    "# Embedding model\n",
    "\n",
    "use huggingface's `SentenceTransformer` framework to use locally servable embeddding models"
   ]
  },
  {
   "cell_type": "code",
   "execution_count": 25,
   "metadata": {},
   "outputs": [
    {
     "name": "stderr",
     "output_type": "stream",
     "text": [
      "2025-03-24 22:39:45.778090: I tensorflow/core/platform/cpu_feature_guard.cc:210] This TensorFlow binary is optimized to use available CPU instructions in performance-critical operations.\n",
      "To enable the following instructions: SSE4.1 SSE4.2 AVX AVX2 FMA, in other operations, rebuild TensorFlow with the appropriate compiler flags.\n"
     ]
    }
   ],
   "source": [
    "from sentence_transformers import SentenceTransformer"
   ]
  },
  {
   "cell_type": "markdown",
   "metadata": {},
   "source": [
    "## Choose embedding model\n",
    "\n",
    "[ref](https://www.pinecone.io/learn/series/rag/embedding-models-rundown/)\n",
    "\n",
    "Use [`NV-Embed-v2`](https://huggingface.co/nvidia/NV-Embed-v2)\n",
    "\n",
    "It is the highest ranking opesource model on MTEB leaderboard."
   ]
  },
  {
   "cell_type": "code",
   "execution_count": null,
   "metadata": {},
   "outputs": [],
   "source": [
    "embedding_model = SentenceTransformer(\n",
    "    model_name_or_path=\"nvidia/NV-Embed-v2\",\n",
    "    trust_remote_code=True\n",
    ")"
   ]
  },
  {
   "cell_type": "code",
   "execution_count": null,
   "metadata": {},
   "outputs": [],
   "source": []
  }
 ],
 "metadata": {
  "kernelspec": {
   "display_name": "genAI",
   "language": "python",
   "name": "python3"
  },
  "language_info": {
   "codemirror_mode": {
    "name": "ipython",
    "version": 3
   },
   "file_extension": ".py",
   "mimetype": "text/x-python",
   "name": "python",
   "nbconvert_exporter": "python",
   "pygments_lexer": "ipython3",
   "version": "3.12.9"
  }
 },
 "nbformat": 4,
 "nbformat_minor": 2
}
