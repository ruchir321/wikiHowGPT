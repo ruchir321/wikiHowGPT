{
 "cells": [
  {
   "cell_type": "code",
   "execution_count": null,
   "metadata": {},
   "outputs": [],
   "source": [
    "import os\n",
    "import dotenv\n",
    "import json\n",
    "import time\n",
    "from pprint import pprint\n",
    "\n",
    "import langsmith\n",
    "from langchain_community.document_loaders.json_loader import JSONLoader\n",
    "from langchain_text_splitters.character import RecursiveCharacterTextSplitter\n",
    "# from sentence_transformers import SentenceTransformer\n",
    "from langchain_huggingface import HuggingFaceEmbeddings\n",
    "\n",
    "import redis\n",
    "from langchain_redis import RedisConfig, RedisVectorStore"
   ]
  },
  {
   "cell_type": "code",
   "execution_count": null,
   "metadata": {},
   "outputs": [],
   "source": [
    "dotenv.load_dotenv()\n",
    "\n",
    "# eval\n",
    "os.environ[\"LANGSMITH_API_KEY\"] = dotenv.dotenv_values()[\"LANGSMITH_API_KEY\"]\n",
    "os.environ[\"LANGSMITH_TRACING\"] = dotenv.dotenv_values()[\"LANGSMITH_TRACING\"]\n",
    "os.environ[\"LANGSMITH_PROJECT\"] = dotenv.dotenv_values()[\"LANGSMITH_PROJECT\"]\n",
    "\n",
    "# input data\n",
    "file_path = dotenv.dotenv_values()[\"wikiHow_10_articles\"]"
   ]
  },
  {
   "cell_type": "code",
   "execution_count": null,
   "metadata": {},
   "outputs": [],
   "source": [
    "def metadata_func(record: dict, metadata: dict) -> dict:\n",
    "    metadata[\"title\"] = record.get(\"title\")\n",
    "\n",
    "    if \"source\" in metadata:\n",
    "        source = metadata[\"source\"].split(\"/\")\n",
    "        source = source[source.index(\"data\"):]\n",
    "        metadata[\"source\"] = \"/\".join(source) # store relative source path\n",
    "\n",
    "    return metadata\n",
    "\n",
    "loader = JSONLoader(\n",
    "    file_path=file_path,\n",
    "    jq_schema='.[]',\n",
    "    content_key=\"text\",\n",
    "    metadata_func=metadata_func\n",
    ")"
   ]
  },
  {
   "cell_type": "code",
   "execution_count": null,
   "metadata": {},
   "outputs": [],
   "source": [
    "docs = loader.load()\n",
    "pprint(docs)"
   ]
  },
  {
   "cell_type": "markdown",
   "metadata": {},
   "source": [
    "## jq schema reference\n",
    "\n",
    "1. \n",
    "JSON        -> [{\"text\": ...}, {\"text\": ...}, {\"text\": ...}]\n",
    "\n",
    "jq_schema   -> \".[].text\"\n",
    "\n",
    "2. \n",
    "\n",
    "JSON        -> {\"key\": [{\"text\": ...}, {\"text\": ...}, {\"text\": ...}]}\n",
    "\n",
    "jq_schema   -> \".key[].text\"\n",
    "\n",
    "3. \n",
    "\n",
    "JSON        -> [\"...\", \"...\", \"...\"]\n",
    "\n",
    "jq_schema   -> \".[]\""
   ]
  },
  {
   "cell_type": "code",
   "execution_count": null,
   "metadata": {},
   "outputs": [],
   "source": [
    "CHUNK_SIZE = 500\n",
    "CHUNK_OVERLAP=300"
   ]
  },
  {
   "cell_type": "code",
   "execution_count": null,
   "metadata": {},
   "outputs": [],
   "source": [
    "text_splitter = RecursiveCharacterTextSplitter(\n",
    "    chunk_size=CHUNK_SIZE,\n",
    "    chunk_overlap=CHUNK_OVERLAP,\n",
    "    add_start_index=True\n",
    ")\n",
    "\n",
    "chunked_docs = text_splitter.split_documents(\n",
    "    documents=docs\n",
    ")\n",
    "pprint(chunked_docs)"
   ]
  },
  {
   "cell_type": "markdown",
   "metadata": {},
   "source": [
    "## Initialize vector db"
   ]
  },
  {
   "cell_type": "code",
   "execution_count": null,
   "metadata": {},
   "outputs": [],
   "source": [
    "REDIS_URL = dotenv.dotenv_values()[\"redis_semantic_cache\"]\n",
    "client = redis.from_url(url=REDIS_URL)\n",
    "client.ping()"
   ]
  },
  {
   "cell_type": "code",
   "execution_count": null,
   "metadata": {},
   "outputs": [],
   "source": [
    "# EMBEDDING_MODEL = \"msmarco-distilbert-base-v4\" # 66.4M params\n",
    "EMBEDDING_MODEL = \"sentence-transformers/paraphrase-MiniLM-L3-v2\" # 17.4M params"
   ]
  },
  {
   "cell_type": "code",
   "execution_count": null,
   "metadata": {},
   "outputs": [],
   "source": [
    "embedding_model = HuggingFaceEmbeddings(model_name=EMBEDDING_MODEL)"
   ]
  },
  {
   "cell_type": "code",
   "execution_count": null,
   "metadata": {},
   "outputs": [],
   "source": [
    "config = RedisConfig(\n",
    "    index_name=\"article\",\n",
    "    redis_url=REDIS_URL\n",
    ")"
   ]
  },
  {
   "cell_type": "code",
   "execution_count": null,
   "metadata": {},
   "outputs": [],
   "source": [
    "vector_store = RedisVectorStore(embeddings=embedding_model, config=config)"
   ]
  },
  {
   "cell_type": "code",
   "execution_count": null,
   "metadata": {},
   "outputs": [],
   "source": [
    "vector_store.add_documents(documents=chunked_docs)"
   ]
  },
  {
   "cell_type": "code",
   "execution_count": null,
   "metadata": {},
   "outputs": [],
   "source": [
    "def format_docs(docs):\n",
    "    # concat mulitple retrieved docs into a single string\n",
    "    return \"\\n\\n\".join(doc.page_content for doc in docs)"
   ]
  },
  {
   "cell_type": "code",
   "execution_count": null,
   "metadata": {},
   "outputs": [],
   "source": []
  }
 ],
 "metadata": {
  "kernelspec": {
   "display_name": "genAI",
   "language": "python",
   "name": "python3"
  },
  "language_info": {
   "codemirror_mode": {
    "name": "ipython",
    "version": 3
   },
   "file_extension": ".py",
   "mimetype": "text/x-python",
   "name": "python",
   "nbconvert_exporter": "python",
   "pygments_lexer": "ipython3",
   "version": "3.12.8"
  }
 },
 "nbformat": 4,
 "nbformat_minor": 2
}
