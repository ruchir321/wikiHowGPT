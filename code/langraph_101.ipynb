{
 "cells": [
  {
   "cell_type": "code",
   "execution_count": 2,
   "id": "7232c2e7",
   "metadata": {},
   "outputs": [],
   "source": [
    "import os\n",
    "import dotenv\n",
    "\n",
    "dotenv.load_dotenv()\n",
    "\n",
    "# eval\n",
    "os.environ[\"LANGSMITH_API_KEY\"] = dotenv.dotenv_values()[\"LANGSMITH_API_KEY\"]\n",
    "os.environ[\"LANGSMITH_TRACING\"] = dotenv.dotenv_values()[\"LANGSMITH_TRACING\"]\n",
    "os.environ[\"LANGSMITH_PROJECT\"] = dotenv.dotenv_values()[\"LANGSMITH_PROJECT\"]\n"
   ]
  },
  {
   "cell_type": "code",
   "execution_count": 1,
   "id": "1af92e66",
   "metadata": {},
   "outputs": [],
   "source": [
    "from langgraph.prebuilt import create_react_agent"
   ]
  },
  {
   "cell_type": "markdown",
   "id": "e906ecf3",
   "metadata": {},
   "source": [
    "`create_react_agent` \n",
    "\n",
    "inputs: model, tools and prompt.\n",
    "\n",
    "purpose: creates a **graph** that works with chat model and tool calling\n",
    "\n",
    "## graph\n",
    "\n",
    "???"
   ]
  },
  {
   "cell_type": "markdown",
   "id": "299d1946",
   "metadata": {},
   "source": [
    "model options\n",
    "\n",
    "langchain-google-genai    2.0.9\n",
    "\n",
    "langchain-google-vertexai 2.0.12\n",
    "\n",
    "langchain-huggingface     0.1.2\n",
    "\n",
    "langchain-ollama          0.2.3\n",
    "\n",
    "langchain-openai          0.3.2\n",
    "\n",
    "langchain-redis           0.2.0\n"
   ]
  },
  {
   "cell_type": "code",
   "execution_count": 12,
   "id": "7c5a772e",
   "metadata": {},
   "outputs": [],
   "source": [
    "# ALWAYS PROVIDE DESCRIPTION\n",
    "# ValueError: Function must have a docstring if description not provided.\n",
    "def get_fake_weather(city: str) -> str:\n",
    "    \"\"\"Weather update for the city\"\"\"\n",
    "    return f\"It's always sunny in {city}\""
   ]
  },
  {
   "cell_type": "code",
   "execution_count": 13,
   "id": "ff683802",
   "metadata": {},
   "outputs": [],
   "source": [
    "agent = create_react_agent(\n",
    "    model=\"ollama:llama3.2\",\n",
    "    tools=[get_fake_weather],\n",
    "    prompt=\"You are a military meteorolgist. Keep your answers short and informative\" # system prompt\n",
    ")"
   ]
  },
  {
   "cell_type": "code",
   "execution_count": null,
   "id": "b74c864f",
   "metadata": {},
   "outputs": [],
   "source": [
    "messages = [\n",
    "    {\n",
    "        \"role\": \"user\",\n",
    "\n",
    "        \"content\": \"what is the weather in Toronto\"\n",
    "    }\n",
    "]"
   ]
  },
  {
   "cell_type": "code",
   "execution_count": 15,
   "id": "0461059c",
   "metadata": {},
   "outputs": [
    {
     "data": {
      "text/plain": [
       "{'messages': [HumanMessage(content='what is the weather in Toronto', additional_kwargs={}, response_metadata={}, id='c166c092-29e2-4a17-b697-e4c3857dd004'),\n",
       "  AIMessage(content='', additional_kwargs={}, response_metadata={'model': 'llama3.2', 'created_at': '2025-06-21T07:13:46.798248659Z', 'done': True, 'done_reason': 'stop', 'total_duration': 975951039, 'load_duration': 40180672, 'prompt_eval_count': 172, 'prompt_eval_duration': 101625367, 'eval_count': 18, 'eval_duration': 832424105, 'message': Message(role='assistant', content='', images=None, tool_calls=None)}, id='run-8ff889bb-bcfd-452d-bdfd-6fc0a8d63047-0', tool_calls=[{'name': 'get_fake_weather', 'args': {'city': 'Toronto'}, 'id': '62730e75-6c14-406a-9ece-8e4c7cfc67a0', 'type': 'tool_call'}], usage_metadata={'input_tokens': 172, 'output_tokens': 18, 'total_tokens': 190}),\n",
       "  ToolMessage(content=\"It's always sunny in Toronto\", name='get_fake_weather', id='96e8ac93-6887-442d-b4f4-85393444ddab', tool_call_id='62730e75-6c14-406a-9ece-8e4c7cfc67a0'),\n",
       "  AIMessage(content=\"That's incorrect! The real weather in Toronto depends on the time of year. Here are some current weather conditions for Toronto:\\n\\n**Current Weather:**\\nPartly cloudy with a high of 18°C (64°F) and a low of 12°C (54°F).\\n\\nPlease note that this is fictional data, as I don't have real-time access to current weather conditions.\\n\\nIf you want to know the actual weather in Toronto, I recommend checking a reliable weather website or app, such as AccuWeather or Weather.com.\", additional_kwargs={}, response_metadata={'model': 'llama3.2', 'created_at': '2025-06-21T07:13:49.238375683Z', 'done': True, 'done_reason': 'stop', 'total_duration': 2428536962, 'load_duration': 32091555, 'prompt_eval_count': 110, 'prompt_eval_duration': 30270647, 'eval_count': 107, 'eval_duration': 2364274581, 'message': Message(role='assistant', content=\"That's incorrect! The real weather in Toronto depends on the time of year. Here are some current weather conditions for Toronto:\\n\\n**Current Weather:**\\nPartly cloudy with a high of 18°C (64°F) and a low of 12°C (54°F).\\n\\nPlease note that this is fictional data, as I don't have real-time access to current weather conditions.\\n\\nIf you want to know the actual weather in Toronto, I recommend checking a reliable weather website or app, such as AccuWeather or Weather.com.\", images=None, tool_calls=None)}, id='run-9058b984-8e2b-4976-96f6-7bdca81e1789-0', usage_metadata={'input_tokens': 110, 'output_tokens': 107, 'total_tokens': 217})]}"
      ]
     },
     "execution_count": 15,
     "metadata": {},
     "output_type": "execute_result"
    }
   ],
   "source": [
    "agent.invoke({\"messages\": messages})"
   ]
  },
  {
   "cell_type": "markdown",
   "id": "3c89f053",
   "metadata": {},
   "source": [
    "## ground truth\n",
    "\n",
    "High / Low\n",
    "\n",
    "25°/23°\n",
    "\n",
    "Cloudy\n",
    "\n",
    "## expected output\n",
    "\n",
    "It's always sunny in Toronto\n",
    "\n",
    "## agent output\n",
    "\n",
    "That's incorrect! The real weather in Toronto depends on the time of year. Here are some current weather conditions for Toronto:\n",
    "\n",
    "**Current Weather:**\n",
    "Partly cloudy with a high of 18°C (64°F) and a low of 12°C (54°F).\n",
    "\n",
    "**Please note that this is fictional data**, as I don't have real-time access to current weather conditions.\n",
    "\n",
    "If you want to know the actual weather in Toronto, I recommend checking a reliable weather website or app, such as AccuWeather or Weather.com.\n",
    "\n",
    "## feedback\n",
    "\n",
    "The model owns up to hallucinating weather info. The agent needs access to weather sites.\n"
   ]
  },
  {
   "cell_type": "code",
   "execution_count": null,
   "id": "76072a52",
   "metadata": {},
   "outputs": [],
   "source": []
  }
 ],
 "metadata": {
  "kernelspec": {
   "display_name": "genAI",
   "language": "python",
   "name": "python3"
  },
  "language_info": {
   "codemirror_mode": {
    "name": "ipython",
    "version": 3
   },
   "file_extension": ".py",
   "mimetype": "text/x-python",
   "name": "python",
   "nbconvert_exporter": "python",
   "pygments_lexer": "ipython3",
   "version": "3.12.9"
  }
 },
 "nbformat": 4,
 "nbformat_minor": 5
}
