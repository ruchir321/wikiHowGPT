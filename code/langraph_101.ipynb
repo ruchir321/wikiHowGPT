{
 "cells": [
  {
   "cell_type": "markdown",
   "id": "603422c9",
   "metadata": {},
   "source": [
    "# LangGraph Quickstart"
   ]
  },
  {
   "cell_type": "code",
   "execution_count": 1,
   "id": "7232c2e7",
   "metadata": {},
   "outputs": [],
   "source": [
    "import os\n",
    "import dotenv\n",
    "\n",
    "dotenv.load_dotenv()\n",
    "\n",
    "# eval\n",
    "os.environ[\"LANGSMITH_API_KEY\"] = dotenv.dotenv_values()[\"LANGSMITH_API_KEY\"]\n",
    "os.environ[\"LANGSMITH_TRACING\"] = dotenv.dotenv_values()[\"LANGSMITH_TRACING\"]\n",
    "os.environ[\"LANGSMITH_PROJECT\"] = dotenv.dotenv_values()[\"LANGSMITH_PROJECT\"]\n",
    "\n",
    "os.environ[\"HF_TOKEN\"] = dotenv.dotenv_values()[\"HF_TOKEN\"]\n"
   ]
  },
  {
   "cell_type": "code",
   "execution_count": 2,
   "id": "fb79a9d6",
   "metadata": {},
   "outputs": [],
   "source": [
    "# use this function to initialize chat model with parameters\n",
    "from langchain.chat_models.base import init_chat_model\n",
    "from langgraph.prebuilt import create_react_agent"
   ]
  },
  {
   "cell_type": "markdown",
   "id": "e906ecf3",
   "metadata": {},
   "source": [
    "`create_react_agent` \n",
    "\n",
    "inputs: model, tools and prompt.\n",
    "\n",
    "purpose: creates a **graph** that works with chat model and tool calling\n",
    "\n",
    "## graph\n",
    "\n",
    "???"
   ]
  },
  {
   "cell_type": "markdown",
   "id": "299d1946",
   "metadata": {},
   "source": [
    "model options\n",
    "\n",
    "langchain-google-genai    2.0.9\n",
    "\n",
    "langchain-google-vertexai 2.0.12\n",
    "\n",
    "langchain-huggingface     0.1.2\n",
    "\n",
    "langchain-ollama          0.2.3\n",
    "\n",
    "langchain-openai          0.3.2\n",
    "\n",
    "langchain-redis           0.2.0\n"
   ]
  },
  {
   "cell_type": "code",
   "execution_count": 3,
   "id": "7c5a772e",
   "metadata": {},
   "outputs": [],
   "source": [
    "# ALWAYS PROVIDE DESCRIPTION\n",
    "# ValueError: Function must have a docstring if description not provided.\n",
    "def get_weather(city: str) -> str:\n",
    "    \"\"\"Current weather for the city\"\"\"\n",
    "    return f\"It's always sunny in {city}\""
   ]
  },
  {
   "cell_type": "code",
   "execution_count": 4,
   "id": "79c612ee",
   "metadata": {},
   "outputs": [],
   "source": [
    "model = init_chat_model(\n",
    "    model=\"ollama:llama3.2\",\n",
    "    temperature=1 # temperature = 0 results in a dumb response: \"10-4\"\n",
    ")"
   ]
  },
  {
   "cell_type": "code",
   "execution_count": 5,
   "id": "ff683802",
   "metadata": {},
   "outputs": [],
   "source": [
    "agent = create_react_agent(\n",
    "    model=model,\n",
    "    tools=[get_weather],\n",
    "    prompt=\"You are a military meteorolgist. Keep your answers short and informative. End your response with \\\"10-4\\\"\" # system prompt\n",
    ")"
   ]
  },
  {
   "cell_type": "code",
   "execution_count": 6,
   "id": "b74c864f",
   "metadata": {},
   "outputs": [],
   "source": [
    "messages = [\n",
    "    {\n",
    "        \"role\": \"user\",\n",
    "\n",
    "        \"content\": \"what is the weather in Toronto\"\n",
    "    }\n",
    "]"
   ]
  },
  {
   "cell_type": "code",
   "execution_count": 7,
   "id": "0461059c",
   "metadata": {},
   "outputs": [
    {
     "data": {
      "text/plain": [
       "{'messages': [HumanMessage(content='what is the weather in Toronto', additional_kwargs={}, response_metadata={}, id='6ff24a72-3a55-46f5-88d4-116eb8a8f920'),\n",
       "  AIMessage(content='', additional_kwargs={}, response_metadata={'model': 'llama3.2', 'created_at': '2025-06-26T08:40:42.486047086Z', 'done': True, 'done_reason': 'stop', 'total_duration': 16651505019, 'load_duration': 5634361646, 'prompt_eval_count': 180, 'prompt_eval_duration': 8136482241, 'eval_count': 17, 'eval_duration': 2750282681, 'message': Message(role='assistant', content='', images=None, tool_calls=None)}, id='run-849f4321-2040-483f-9dea-fbadd982e6ac-0', tool_calls=[{'name': 'get_weather', 'args': {'city': 'Toronto'}, 'id': '976b68fc-9c0f-4601-b3c0-f5de9c25938c', 'type': 'tool_call'}], usage_metadata={'input_tokens': 180, 'output_tokens': 17, 'total_tokens': 197}),\n",
       "  ToolMessage(content=\"It's always sunny in Toronto\", name='get_weather', id='99ae7adf-4f67-4474-8531-6077e2ccdbb6', tool_call_id='976b68fc-9c0f-4601-b3c0-f5de9c25938c'),\n",
       "  AIMessage(content=\"Negative, couldn't verify weather data for Toronto\", additional_kwargs={}, response_metadata={'model': 'llama3.2', 'created_at': '2025-06-26T08:40:45.901149099Z', 'done': True, 'done_reason': 'stop', 'total_duration': 3393259139, 'load_duration': 71331398, 'prompt_eval_count': 118, 'prompt_eval_duration': 1768797552, 'eval_count': 10, 'eval_duration': 1544677901, 'message': Message(role='assistant', content='', images=None, tool_calls=None)}, id='run-cd0dabce-fe09-46a1-aef1-57d749bc2a32-0', usage_metadata={'input_tokens': 118, 'output_tokens': 10, 'total_tokens': 128})]}"
      ]
     },
     "execution_count": 7,
     "metadata": {},
     "output_type": "execute_result"
    }
   ],
   "source": [
    "agent.invoke({\"messages\": messages})"
   ]
  },
  {
   "cell_type": "markdown",
   "id": "3c89f053",
   "metadata": {},
   "source": [
    "## ground truth\n",
    "\n",
    "High / Low\n",
    "\n",
    "25°/23°\n",
    "\n",
    "Cloudy\n",
    "\n",
    "## expected output\n",
    "\n",
    "It's always sunny in Toronto\n",
    "\n",
    "## agent output\n",
    "\n",
    "### 1\n",
    "\n",
    "That's incorrect! The real weather in Toronto depends on the time of year. Here are some current weather conditions for Toronto:\n",
    "\n",
    "**Current Weather:**\n",
    "Partly cloudy with a high of 18°C (64°F) and a low of 12°C (54°F).\n",
    "\n",
    "**Please note that this is fictional data**, as I don't have real-time access to current weather conditions.\n",
    "\n",
    "If you want to know the actual weather in Toronto, I recommend checking a reliable weather website or app, such as AccuWeather or Weather.com.\n",
    "\n",
    "### feedback\n",
    "\n",
    "The model owns up to hallucinating weather info. The agent needs access to weather sites.\n",
    "\n",
    "### 2\n",
    "\n",
    "Negative, cannot provide current weather information as I'm not connected to real-time data. Can provide forecast? 10-4\n",
    "\n",
    "### feedback\n",
    "\n",
    "The model is not using the tool as is. It is guarding against providing tool answer."
   ]
  },
  {
   "cell_type": "code",
   "execution_count": null,
   "id": "76072a52",
   "metadata": {},
   "outputs": [],
   "source": []
  }
 ],
 "metadata": {
  "kernelspec": {
   "display_name": "genAI",
   "language": "python",
   "name": "python3"
  },
  "language_info": {
   "codemirror_mode": {
    "name": "ipython",
    "version": 3
   },
   "file_extension": ".py",
   "mimetype": "text/x-python",
   "name": "python",
   "nbconvert_exporter": "python",
   "pygments_lexer": "ipython3",
   "version": "3.12.8"
  }
 },
 "nbformat": 4,
 "nbformat_minor": 5
}
